{
  "nbformat": 4,
  "nbformat_minor": 0,
  "metadata": {
    "colab": {
      "name": "Hwk2_AlexandreAdam.ipynb",
      "provenance": [],
      "collapsed_sections": [],
      "authorship_tag": "ABX9TyNXHNSF81Yw2oNRGSCnN7Br",
      "include_colab_link": true
    },
    "kernelspec": {
      "name": "python3",
      "display_name": "Python 3"
    }
  },
  "cells": [
    {
      "cell_type": "markdown",
      "metadata": {
        "id": "view-in-github",
        "colab_type": "text"
      },
      "source": [
        "<a href=\"https://colab.research.google.com/github/AlexandreAdam/IFT6269/blob/master/Hwk2_AlexandreAdam.ipynb\" target=\"_parent\"><img src=\"https://colab.research.google.com/assets/colab-badge.svg\" alt=\"Open In Colab\"/></a>"
      ]
    },
    {
      "cell_type": "markdown",
      "metadata": {
        "id": "iXO7iLkAMbY1",
        "colab_type": "text"
      },
      "source": [
        "# Linear Classification\n",
        "Name: Alexandre Adam\n",
        "\n",
        "Student ID: p1162403\n",
        "\n",
        "Collaborators:"
      ]
    },
    {
      "cell_type": "markdown",
      "metadata": {
        "id": "yaAmvKDSNC-S",
        "colab_type": "text"
      },
      "source": [
        "### Generative model: Fisher LDA\n",
        "\n"
      ]
    },
    {
      "cell_type": "markdown",
      "metadata": {
        "id": "1kw_HQopNSFY",
        "colab_type": "text"
      },
      "source": [
        "### Logistic Regression"
      ]
    },
    {
      "cell_type": "markdown",
      "metadata": {
        "id": "gtaQ_GYiNqMf",
        "colab_type": "text"
      },
      "source": [
        "### Linear Regression"
      ]
    },
    {
      "cell_type": "markdown",
      "metadata": {
        "id": "FrczBYJBNvJd",
        "colab_type": "text"
      },
      "source": [
        "### Classification on Data"
      ]
    },
    {
      "cell_type": "markdown",
      "metadata": {
        "id": "EVx-QRGDN1p4",
        "colab_type": "text"
      },
      "source": [
        "### QDA Model"
      ]
    },
    {
      "cell_type": "code",
      "metadata": {
        "id": "CmFi8RGAN1GI",
        "colab_type": "code",
        "colab": {}
      },
      "source": [
        ""
      ],
      "execution_count": null,
      "outputs": []
    }
  ]
}