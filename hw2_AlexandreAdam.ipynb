{
  "nbformat": 4,
  "nbformat_minor": 0,
  "metadata": {
    "colab": {
      "name": "hw2_yourNameHere.ipynb",
      "provenance": [],
      "collapsed_sections": [
        "uIWLS_7ywDxx",
        "EyacdZmhob1c",
        "-2g7VdIkob1f",
        "tdQIo6j2olU7",
        "hQ0DVSy5olU9",
        "K89AXqq7olVC"
      ],
      "include_colab_link": true
    },
    "kernelspec": {
      "name": "python3",
      "display_name": "Python 3"
    }
  },
  "cells": [
    {
      "cell_type": "markdown",
      "metadata": {
        "id": "view-in-github",
        "colab_type": "text"
      },
      "source": [
        "<a href=\"https://colab.research.google.com/github/AlexandreAdam/ProbabilisticGraphicalModels/blob/master/hw2_AlexandreAdam.ipynb\" target=\"_parent\"><img src=\"https://colab.research.google.com/assets/colab-badge.svg\" alt=\"Open In Colab\"/></a>"
      ]
    },
    {
      "cell_type": "markdown",
      "metadata": {
        "id": "Z8p_rVKVWH2w"
      },
      "source": [
        "# IFT6269 - Homework 2 - Linear Classification\n",
        "\n",
        "**Due**: Tuesday, October 13, 2020"
      ]
    },
    {
      "cell_type": "markdown",
      "metadata": {
        "id": "erSG6CCYGYE6"
      },
      "source": [
        "#### Name: Alexandre Adam\n",
        "#### Student ID: 20090755\n",
        "#### Collaborators: Olivier Vincent, Ronan Legin\n",
        "\n"
      ]
    },
    {
      "cell_type": "markdown",
      "metadata": {
        "id": "SloWv9XFBdxL"
      },
      "source": [
        "### Introduction\n",
        "\n",
        "In this assignment you will compare the performance of several algorithm on some synthetic classification tasks. The assignment consists of two parts: 1) a derivation of the estimators for the Fisher LDA with general covariance matrix derivation and 2) the implementation of several classification algorithms.\n",
        "\n",
        "### Tasks\n",
        "0.   Get your own copy of this file via \"File > Save a copy in Drive...\",\n",
        "1.   Fill your personal information and collaborators at the top of this assignment, and rename the notebook accordingly, e.g., `hw2_thomasBayes.ipynb`\n",
        "2.   Read the instructions provided on each section and cell carefully,\n",
        "3.   Answer the section **Math Questions on Fisher LDA**,\n",
        "4.   Implement the requested algorithms in section **Playground** following the example provided in dummy_model`,\n",
        "5.   In section **Model Comparison**, for each of the datasets:\n",
        "    *   use the training data to estimate the parameters of each of the 4 algorithms,\n",
        "    *   plot the corresponding estimated decision boundary and the training set using the function `plot_results`, \n",
        "    *   compute the training and test accuracy and fill the table in each section by hand,\n",
        "    *   compare the performance of each of the algorithms and provide an explanation for your observations based on, for example, their accuracy, overfitting/generalization properties, whether the assumptions of each algorithms are satisfied by the data, etc. \n",
        "    \n",
        "**Important**: You are allowed to collaborate with other students in both the math and coding parts of this assignment. However, the answers provided here must reflect your individual work. For that reason, you are not allowed to share this notebook, except for your submission to the TA for grading. **Don't forget to pin and save the version of the notebook you want to be graded on!**"
      ]
    },
    {
      "cell_type": "code",
      "metadata": {
        "id": "pJlUxcYmBYCK"
      },
      "source": [
        "!wget http://www.iro.umontreal.ca/~slacoste/teaching/ift6269/A20/notes/hwk2data.zip\n",
        "!unzip hwk2data.zip\n",
        "\n",
        "import numpy as np\n",
        "np.random.seed(0)\n",
        "import matplotlib.pyplot as plt\n",
        "plt.style.use('seaborn-white')"
      ],
      "execution_count": null,
      "outputs": []
    },
    {
      "cell_type": "markdown",
      "metadata": {
        "id": "uvqU0cT7WGKw"
      },
      "source": [
        "You get 3 different datasets (**A**, **B**, **C**) with a training and test set for each, i.e., 6 sets in total. Each row represents a sample of data $(x_i, y_i)$. There are three columns: the first two give the coordinates for $x_i \\in \\mathbb{R}^2$; the third column gives the class label $y_i \\in \\{0, 1\\}$. The datasets are all generated from some kind of mixture of Gaussians generative model. The train and test sets are generated from the same distribution for each types of dataset. \n",
        "\n",
        "To help your interpretation, we give you the actual\n",
        "generating process. However, keep in mind that normally we would not know the information about the generating process. In this\n",
        "assignment, we will compare different classification approaches.\n",
        "*  **Dataset A**: the class-conditionals for this dataset are Gaussians with different means, but with a shared covariance matrix $\\Sigma$.\n",
        "*  **Dataset B**: similar generating process but the covariance matrices are different for the two classes.\n",
        "*  **Dataset C**: here one class is a mixture of two Gaussians, while the other class is a single Gaussian (with no sharing).\n",
        "\n",
        "Test the different models learnt from the corresponding training data on these test data. Compute for each model the accuracy (i.e.  the fraction of the data correctly classified) on the training set and compute it as well for the test set. And compare the performances of the different methods on the three datasets.\n"
      ]
    },
    {
      "cell_type": "code",
      "metadata": {
        "id": "Bd37lDIfFx74"
      },
      "source": [
        "data = {}\n",
        "\n",
        "for d_ix in [\"A\", \"B\", \"C\"]:\n",
        "    for t_flag in [\"train\", \"test\"]:\n",
        "        data[t_flag + \"_\" + d_ix] = np.loadtxt(\"/content/hwk2data/classification\"+d_ix+\".\"+t_flag)"
      ],
      "execution_count": null,
      "outputs": []
    },
    {
      "cell_type": "markdown",
      "metadata": {
        "id": "-8zV4Tcip4qw"
      },
      "source": [
        "### Models\n",
        "\n",
        "**Fisher LDA**\n",
        ">  We first consider the Fisher LDA model as seen in class: given the class variable, the data are assumed to be Gaussians with different means for different classes but with the same covariance matrix: $Y \\sim \\text{Bernoulli}(\\pi)$, $X | \\{Y = j\\} \\sim \\mathcal{N}(\\mu_j, \\Sigma)$.\n",
        "\n",
        "**Logistic Regression**\n",
        ">  Implement logistic regression for an affine function $f(x) = w^Tx+b$ (do not forget the constant term – you can use the bias feature trick) using the IRLS algorithm (Newton’s method) which was described in class. Hint: never compute the matrix inverse by itself – this is not numerically stable when the Hessian might become ill-conditioned.\n",
        "\n",
        "**Linear regression**\n",
        "\n",
        "> As mentioned in class, we can forget that the class $y$ can only take the two values $0$ or $1$ and think of it as a real-valued variable on which we can do standard linear regression (least-squares). Here, the Gaussian noise model on $y$ does not make any sense from a generative point of view; but we can still do least-squares to estimate the parameters of a linear decision boundary (you’ll be surprised by its performance despite coming from a “bad”\n",
        "generative model!). Implement linear regression (for an affine function $f(x) = w^Tx + b$) by solving the normal equations on each dataset (with no regularization).\n",
        "\n",
        "\n",
        "**QDA**\n",
        ">  We finally relax the assumption that the covariance matrices for the two classes are the same. So, given the class label, the data are now assumed to be Gaussian with means and covariance matrices which are a priori different:\n",
        "$Y \\sim \\text{Bernoulli}(\\pi)$, $X | \\{Y = j\\} \\sim \\mathcal{N}(\\mu_j, \\Sigma_j)$."
      ]
    },
    {
      "cell_type": "markdown",
      "metadata": {
        "id": "uIWLS_7ywDxx"
      },
      "source": [
        "## Math Questions on Fisher LDA\n",
        "\n",
        "This week's math questions will be typed directly in this notebook, i.e., no scanned hand-written answers accepted! You can use standard $\\LaTeX$ sintax here!\n",
        "\n"
      ]
    },
    {
      "cell_type": "markdown",
      "metadata": {
        "id": "VQbv3qReyB5Y"
      },
      "source": [
        "**Question A:** Derive the form of the maximum likelihood estimator for the Fisher LDA model described above. Hint: you can re-use some of the tricks presented in class for the MLE of a multivariate Gaussian, but adapted to this setting. You can get inspiration from Section 7.2 in Mike’s book (which covers the case where $\\Sigma$ is diagonal).\n",
        "\n",
        "**Answer:**"
      ]
    },
    {
      "cell_type": "markdown",
      "metadata": {
        "id": "jvJTKvjVyUtb"
      },
      "source": [
        "**Question B:** What is the form of the conditional distribution $p(y = 1|x)$? Compare with the form of logistic regression\n",
        "\n",
        "**Answer:** "
      ]
    },
    {
      "cell_type": "markdown",
      "metadata": {
        "id": "Eqmd8My_X6eQ"
      },
      "source": [
        "## Playground\n",
        "\n",
        "You are allowed to add as many cells and functions as you wish in this section, but not allowed to change the signature (name and inputs) of the functions! "
      ]
    },
    {
      "cell_type": "code",
      "metadata": {
        "id": "eKiZeEJkLsfe"
      },
      "source": [
        "def dummy_model(X, y):\n",
        "    \n",
        "    \"\"\"\n",
        "    This is a dummy model to show you how your solution is expected to look like\n",
        "        Inputs:\n",
        "            X: [nx2] matrix of inputs\n",
        "            Y: [n] vector of labels\n",
        "        \n",
        "        Returns:\n",
        "            dummy_classifier: dummy classification function\n",
        "    \"\"\"\n",
        "    \n",
        "    # Just computing some means and standard deviations, nothing fancy\n",
        "    mu0, mu1 = X[:, 0].mean(), X[:, 1].mean()\n",
        "    s0, s1 = X[:, 0].std(), X[:, 1].std()\n",
        "    \n",
        "    \n",
        "    def dummy_classifier(x0, x1):\n",
        "        # Note how we use the variables mu0, mu1, s0 and s1 computed from the data\n",
        "        # to define this function. Their values get stored in the definition\n",
        "        # of the function itself, meaning that we don't have to store them explicitly.\n",
        "        return 0.5 * (1 + np.tanh((x0 - mu0)**2/s0 - (x1 - mu1)**2/s1))\n",
        "    \n",
        "    return dummy_classifier"
      ],
      "execution_count": null,
      "outputs": []
    },
    {
      "cell_type": "code",
      "metadata": {
        "id": "wW5kP0b0Y0Sj"
      },
      "source": [
        "def LDA(X, y):\n",
        "    \"\"\"\n",
        "    Estimates the parameters of an LDA model\n",
        "        \n",
        "        Inputs:\n",
        "            X: [nx2] matrix of inputs\n",
        "            Y: [n] vector of labels\n",
        "        \n",
        "        Returns:\n",
        "            LDA_classifier: function taking two scalar inputs implementing the\n",
        "                            estimated p(y=1|x)\n",
        "    \"\"\"\n",
        "    # TODO: parameter estimation goes here\n",
        "    \n",
        "    def LDA_classifier(x0, x1):\n",
        "         # TODO: use the variables estimated above to define p(y=1|(x0, x1))\n",
        "        return 0\n",
        "    \n",
        "    return LDA_classifier\n",
        "\n",
        "\n",
        "def LogReg(X, y):\n",
        "    \"\"\"\n",
        "    Estimates the parameters of a Logistic Regression model\n",
        "        \n",
        "        Inputs:\n",
        "            X: [nx2] matrix of inputs\n",
        "            Y: [n] vector of labels\n",
        "        \n",
        "        Returns:\n",
        "            LogReg_classifier: function taking two scalar inputs implementing the\n",
        "                               estimated p(y=1|x)\n",
        "    \"\"\"\n",
        "    # TODO: parameter estimation goes here\n",
        "    \n",
        "    def LogReg_classifier(x0, x1):\n",
        "         # TODO: use the variables estimated above to define p(y=1|(x0, x1))\n",
        "        return 0\n",
        "    \n",
        "    return LogReg_classifier\n",
        "\n",
        "\n",
        "def LinReg(X, y):\n",
        "    \"\"\"\n",
        "    Estimates the parameters of a Linear Regression model\n",
        "        \n",
        "        Inputs:\n",
        "            X: [nx2] matrix of inputs\n",
        "            Y: [n] vector of labels\n",
        "        \n",
        "        Returns:\n",
        "            LinReg_classifier: function taking two scalar inputs implementing the\n",
        "                               estimated f(x)\n",
        "    \"\"\"\n",
        "    # TODO: parameter estimation goes here\n",
        "    \n",
        "    def LinReg_classifier(x0, x1):\n",
        "         # TODO: use the variables estimated above to implement f(x0, x1)\n",
        "        return 0\n",
        "    \n",
        "    return LinReg_classifier\n",
        "\n",
        "\n",
        "def QDA(X, y):\n",
        "    \"\"\"\n",
        "    Estimates the parameters of a QDA model\n",
        "        \n",
        "        Inputs:\n",
        "            X: [nx2] matrix of inputs\n",
        "            Y: [n] vector of labels\n",
        "        \n",
        "        Returns:\n",
        "            QDA_classifier: function taking two scalar inputs implementing the\n",
        "                            estimated p(y=1|x)\n",
        "    \"\"\"\n",
        "    # TODO: parameter estimation goes here\n",
        "    \n",
        "    def QDA_classifier(x0, x1):\n",
        "         # TODO: use the variables estimated above to implement p(y=1|(x0, x1))\n",
        "        return 0\n",
        "    \n",
        "    return QDA_classifier\n"
      ],
      "execution_count": null,
      "outputs": []
    },
    {
      "cell_type": "markdown",
      "metadata": {
        "id": "ls85ghIiHzb0"
      },
      "source": [
        "## Model Comparison\n",
        "\n",
        "You are allowed to change the cell contents unless explicitly noted otherwise. Use the provided cells to type your answers and fill the tables."
      ]
    },
    {
      "cell_type": "markdown",
      "metadata": {
        "id": "oZ9Oek1lpoRb"
      },
      "source": [
        "### Code for plotting results"
      ]
    },
    {
      "cell_type": "code",
      "metadata": {
        "id": "f30i-scwYYtA"
      },
      "source": [
        "# ----------------------------------------------------------------------- #\n",
        "#                      Do NOT modify this cell\n",
        "# ----------------------------------------------------------------------- #\n",
        "\n",
        "def pointwise_eval(f, umatrix, vmatrix):\n",
        "    \"\"\"\n",
        "    Evaluates the function f over a grid given by the matrices u and V\n",
        "        \n",
        "        Inputs:\n",
        "            f: [callable] function (of two scalar inputs) to be evaluated\n",
        "            u: [n x m] matrix of values for the first input\n",
        "            v: [n x m] matrix of values for the second input\n",
        "                    \n",
        "        Returns:\n",
        "            z: [n x m] matrix of function values f(u_ij, v_ij) for i \\in [1..n], j \\in [1..m]\n",
        "    \"\"\"\n",
        "    n, m = umatrix.shape\n",
        "    z = np.zeros((n, m))\n",
        "    for i in range(n):\n",
        "        for j in range(m):\n",
        "        z[i, j] = f(umatrix[i, j], vmatrix[i,j])\n",
        "    return z\n",
        "    \n",
        "def plot_results(X, y, classifiers):\n",
        "    \"\"\"\n",
        "    Displays the behavior of the several classifiers via a 2x2 subplot.\n",
        "        \n",
        "        Inputs:\n",
        "            X: [nx2] matrix of inputs\n",
        "            Y: [n] vector of labels\n",
        "            classifiers: [4] list of functions in EXACTLT the following order:\n",
        "                         [\"LDA\", \"LogReg\", \"LinReg\", \"QDA\"]\n",
        "                         \n",
        "        Output:\n",
        "            2x2 subplot with showing a scatter plot of the data, a contour plot \n",
        "            for each classifier function and the level set f(x)=0.5 in black. \n",
        "        \n",
        "    \"\"\"\n",
        "    \n",
        "    assert len(classifiers) == 4\n",
        "    \n",
        "    labels = [\"LDA\", \"LogReg\", \"LinReg\", \"QDA\"]\n",
        "    \n",
        "    # Find range in each dimension and setup a meshgrid\n",
        "    x0_list = np.linspace(X[:, 0].min(), X[:, 0].max(), 250)\n",
        "    x1_list = np.linspace(X[:, 1].min(), X[:, 1].max(), 250)\n",
        "    x0_v, x1_v = np.meshgrid(x0_list, x1_list, sparse=False, indexing='ij')\n",
        "    \n",
        "    # Create 2x2 subplot\n",
        "    fig, axs = plt.subplots(2, 2, figsize=(9, 9))\n",
        "    (ax1, ax2), (ax3, ax4) = axs\n",
        "    \n",
        "    for ix, ax in enumerate([ax1, ax2, ax3, ax4]):\n",
        "        \n",
        "        # Take an individual classifier\n",
        "        f = classifiers[ix]\n",
        "        \n",
        "        if not f is None:\n",
        "            \n",
        "            # Evaluate over the meshgrid and plot contour lines\n",
        "            # Z = f(x0_v, x1_v) # This is old code!!\n",
        "            Z = pointwise_eval(f, x0_v, x1_v)\n",
        "            contours = ax.contourf(x0_v, x1_v, Z, 5, cmap='RdBu', alpha=0.2);\n",
        "            ax.clabel(contours, inline=True, fontsize=10)\n",
        "            ax.contour(x0_v, x1_v, Z, [0.5], colors='black');\n",
        "\n",
        "            # Plot the labelled data on top\n",
        "            ax.scatter(X[y==0, 0], X[y==0, 1], marker=\"x\", c='r');\n",
        "            ax.scatter(X[y==1, 0], X[y==1, 1], marker=\"o\", facecolors='none', edgecolors='b');\n",
        "            ax.set_title(labels[ix])"
      ],
      "execution_count": null,
      "outputs": []
    },
    {
      "cell_type": "markdown",
      "metadata": {
        "id": "E6ls9dSYYVQI"
      },
      "source": [
        "### Dataset A"
      ]
    },
    {
      "cell_type": "markdown",
      "metadata": {
        "id": "UIHOQVSzkYXQ"
      },
      "source": [
        "#### Parameter estimation and plots"
      ]
    },
    {
      "cell_type": "code",
      "metadata": {
        "id": "8Ao9IpmNHryQ"
      },
      "source": [
        "X_train, y_train = data[\"train_A\"][:, 0:2], data[\"train_A\"][:, -1]\n",
        "X_test, y_test = data[\"test_A\"][:, 0:2], data[\"test_A\"][:, -1]\n",
        "\n",
        "\n",
        "# Note that by setting some of the entries to None you can implement and test each\n",
        "# of the methods one by one.\n",
        "\n",
        "# You can erase the following TWO lines once you are comfortable with the codebase.\n",
        "dummy_class_list = [dummy_model(X_train, y_train), None, None, None]\n",
        "plot_results(X_train, y_train, dummy_class_list)\n",
        "\n",
        "# Your classifiers list should always look like this. Run this when you\n",
        "# have implemented and tested the methods above.\n",
        "\n",
        "# classifiers = [model(X_train, y_train) for model in [LDA, LogReg, LinReg, QDA]]\n",
        "# plot_results(X_train, y_train, classifiers)"
      ],
      "execution_count": null,
      "outputs": []
    },
    {
      "cell_type": "markdown",
      "metadata": {
        "id": "3A1J8geuj2Sk"
      },
      "source": [
        "#### Comparison\n"
      ]
    },
    {
      "cell_type": "markdown",
      "metadata": {
        "id": "FdYgQ5AAll9y"
      },
      "source": [
        "Method | Train Acc. | Test Acc.\n",
        "--- | --- | ---\n",
        "*LDA* | ? % | ? %\n",
        "*LogReg* | ? % | ? %\n",
        "*LinReg* | ? % | ? %\n",
        "*QDA* | ? % | ? %\n",
        "\n",
        "\n",
        "**Question:** Is the misclassiffication error larger, smaller, or similar on the training and test data? Why?\n",
        "\n",
        "**Answer:**\n"
      ]
    },
    {
      "cell_type": "markdown",
      "metadata": {
        "id": "h-dKJDJIlGNC"
      },
      "source": [
        "**Question:** Which methods yield very similar/dissimilar results? Which method yield the best results? Provide an interpretation.\n",
        "\n",
        "**Answer:**"
      ]
    },
    {
      "cell_type": "markdown",
      "metadata": {
        "id": "g0fD576vob1Z"
      },
      "source": [
        "### Dataset B"
      ]
    },
    {
      "cell_type": "markdown",
      "metadata": {
        "id": "EyacdZmhob1c"
      },
      "source": [
        "#### Parameter estimation and plots"
      ]
    },
    {
      "cell_type": "code",
      "metadata": {
        "id": "POjn4Xfzob1d"
      },
      "source": [
        "X_train, y_train = data[\"train_B\"][:, 0:2], data[\"train_B\"][:, -1]\n",
        "X_test, y_test = data[\"test_B\"][:, 0:2], data[\"test_B\"][:, -1]\n",
        "\n",
        "\n",
        "# Your classifiers list should always look like this. Run this when you\n",
        "# have implemented and tested the methods above.\n",
        "\n",
        "classifiers = [model(X_train, y_train) for model in [LDA, LogReg, LinReg, QDA]]\n",
        "plot_results(X_train, y_train, classifiers)"
      ],
      "execution_count": null,
      "outputs": []
    },
    {
      "cell_type": "markdown",
      "metadata": {
        "id": "-2g7VdIkob1f"
      },
      "source": [
        "#### Comparison\n"
      ]
    },
    {
      "cell_type": "markdown",
      "metadata": {
        "id": "HTPtPY5Lob1g"
      },
      "source": [
        "Method | Train Acc. | Test Acc.\n",
        "--- | --- | ---\n",
        "*LDA* | ? % | ? %\n",
        "*LogReg* | ? % | ? %\n",
        "*LinReg* | ? % | ? %\n",
        "*QDA* | ? % | ? %\n",
        "\n",
        "\n",
        "**Question:** Is the misclassiffication error larger, smaller, or similar on the training and test data? Why?\n",
        "\n",
        "**Answer:**\n",
        "\n"
      ]
    },
    {
      "cell_type": "markdown",
      "metadata": {
        "id": "Kfujqpt2ob1h"
      },
      "source": [
        "**Question:** Which methods yield very similar/dissimilar results? Which method yield the best results? Provide an interpretation.\n",
        "\n",
        "**Answer:**"
      ]
    },
    {
      "cell_type": "markdown",
      "metadata": {
        "id": "tdQIo6j2olU7"
      },
      "source": [
        "### Dataset C"
      ]
    },
    {
      "cell_type": "markdown",
      "metadata": {
        "id": "hQ0DVSy5olU9"
      },
      "source": [
        "#### Parameter estimation and plots"
      ]
    },
    {
      "cell_type": "code",
      "metadata": {
        "id": "Bsj_8TKpolU-"
      },
      "source": [
        "X_train, y_train = data[\"train_C\"][:, 0:2], data[\"train_C\"][:, -1]\n",
        "X_test, y_test = data[\"test_C\"][:, 0:2], data[\"test_C\"][:, -1]\n",
        "\n",
        "\n",
        "# Your classifiers list should always look like this. Run this when you\n",
        "# have implemented and tested the methods above.\n",
        "\n",
        "classifiers = [model(X_train, y_train) for model in [LDA, LogReg, LinReg, QDA]]\n",
        "plot_results(X_train, y_train, classifiers)"
      ],
      "execution_count": null,
      "outputs": []
    },
    {
      "cell_type": "markdown",
      "metadata": {
        "id": "K89AXqq7olVC"
      },
      "source": [
        "#### Comparison\n"
      ]
    },
    {
      "cell_type": "markdown",
      "metadata": {
        "id": "jcgvPEQ0olVD"
      },
      "source": [
        "Method | Train Acc. | Test Acc.\n",
        "--- | --- | ---\n",
        "*LDA* | ? % | ? %\n",
        "*LogReg* | ? % | ? %\n",
        "*LinReg* | ? % | ? %\n",
        "*QDA* | ? % | ? %\n",
        "\n",
        "\n",
        "**Question:** Is the misclassiffication error larger, smaller, or similar on the training and test data? Why?\n",
        "\n",
        "**Answer:**\n"
      ]
    },
    {
      "cell_type": "markdown",
      "metadata": {
        "id": "7_nlC87nolVD"
      },
      "source": [
        "**Question:** Which methods yield very similar/dissimilar results? Which method yield the best results? Provide an interpretation.\n",
        "\n",
        "**Answer:**"
      ]
    }
  ]
}