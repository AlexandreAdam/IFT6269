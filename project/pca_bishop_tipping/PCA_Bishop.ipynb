{
 "cells": [
  {
   "cell_type": "code",
   "execution_count": null,
   "metadata": {},
   "outputs": [],
   "source": [
    "import numpy as np\n",
    "import matplotlib.pyplot as plt\n",
    "from scipy.linalg import svd\n",
    "%matplotlib inline"
   ]
  },
  {
   "cell_type": "markdown",
   "metadata": {},
   "source": [
    "# Introduction\n",
    "\n",
    "Let us define a dataset \n",
    "$$\n",
    "    \\mathcal{D} = \\{\\mathbf{x}_n\\}, \\hspace{0.2cm} n \\in \\{1, \\dots, N\\}\n",
    "$$\n",
    "where $\\mathbf{x}_i$ are m-vectors.\n",
    "\n",
    "The $q$-principal axes $\\mathbf{w}_j$ are orthonormal onto which \n",
    "the retained variance under the projection is maximized.\n",
    "\n",
    "Sample covariance matrix\n",
    "$$\n",
    "    \\mathbf{S} = \\frac{1}{N - 1} \\sum_{i = 1}^N (\\mathbf{x} - \\bar{\\mathbf{x}})(\\mathbf{x} - \\bar{\\mathbf{x}})^T\n",
    "$$\n",
    "\n",
    "We define $\\eta_i$ to be the projected vectors. \n",
    "$$\n",
    "    \\eta_i = \\mathbf{W}^T (\\mathbf{x}_i - \\bar{\\mathbf{x}})\n",
    "$$\n",
    "where $\\mathbf{W} = \\{\\mathbf{w}_1, \\dots , \\mathbf{w}_q\\}$\n",
    "\n",
    "The variable $\\eta$ are uncorrelated such that the covariance \n",
    "$$\n",
    "    \\mathbf{S}_\\eta = \\frac{1}{N - 1}\\sum_{i = 1}^N \\eta_i \\eta_i^T\n",
    "$$\n",
    "is diagonal with elements $\\lambda_j$, the eigenvectors of $\\mathbf{S\n",
    "}$.\n",
    "\n",
    "We set the optimal linear reconstruction \n",
    "$$\n",
    "    \\hat{\\mathbf{x}}_i = \\mathbf{W }\\eta_i + \\bar{\\mathbf{x}}\n",
    "$$\n",
    "which will maximize the L2-error (or squared reconstruction error)."
   ]
  },
  {
   "cell_type": "markdown",
   "metadata": {},
   "source": [
    "# Latent variable model\n",
    "\n",
    "We use the factor analysis model\n",
    "$$\n",
    "    \\mathbf{x} = \\mathbf{W}\\eta + \\mu + \\epsilon\n",
    "$$\n",
    "where we assume \n",
    "\\begin{align}\n",
    "    \\eta &\\sim \\mathcal{N}(0, \\mathbb{1}) \\\\\n",
    "    \\epsilon &\\sim \\mathcal{N}(0, \\Sigma) \\\\\n",
    "    \\mathbf{x} &\\sim \\mathcal{N}(\\mu, \\mathbf{WW}^T + \\Sigma)\n",
    "\\end{align}\n",
    "\n",
    "Where we constrain $\\Sigma$ to be diagonal. \n",
    "The observed variables $x_i$ are conditionally independent on the latent variables $\\theta = (\\eta, \\mu, \\Sigma)$."
   ]
  },
  {
   "cell_type": "markdown",
   "metadata": {},
   "source": [
    "# Probabilistic PCA\n",
    "\n",
    "Using an isotropic Gaussian noise model $\\Sigma = \\sigma^2 \\mathbf{1}$, we end up with the conditional distribution\n",
    "$$\n",
    "    \\mathbf{x} \\mid \\eta \\sim \\mathcal{N}(\\mathbf{Wx} + \\mu, \\sigma^2\\mathbf{1})\n",
    "$$\n",
    "\n",
    "The corresponding log-likelihood is\n",
    "$$\n",
    "    \\mathcal{L} = -\\frac{N}{2} (d \\log (2 \\pi) + \\log \\det (C) +\n",
    "    \\text{Tr} (\\mathbf{C}^{-1} \\mathbf{S} ))\n",
    "$$\n",
    "\n",
    "where $\\mathbf{C} = \\mathbf{WW}^T + \\sigma^2 \\mathbf{1}$.\n",
    "\n",
    "By Bayes rule, we can get the posterior\n",
    "$$\n",
    "    \\eta \\mid \\mathbf{x} \\sim \\mathcal{N} (\\mathbf{M}^{-1} \\mathbf{W}^T (\\mathbf{x} - \\mu), \\sigma^2 \\mathbf{M}^{-1})\n",
    "$$\n",
    "\n",
    "where $\\mathbf{M} = \\mathbf{W}^T\\mathbf{W} + \\sigma^2 \\mathbf{1}$. Using \n",
    "results from matrix differention, we get\n",
    "$$\n",
    "\\frac{\\partial \\mathcal{L}}{\\partial \\mathbf{W}} = N(\\mathbf{C}^{-1} \\mathbf{S} \\mathbf{C}^{-1} - \\mathbf{C}^{-1} \\mathbf{W})\n",
    "$$\n",
    " There are 3 possible solution (2 non-trivial). The first one is \n",
    " $$\n",
    "         \\mathbf{C} = \\mathbf{S} \\implies \\mathbf{WW}^{T} = \\mathbf{S} - \\sigma^{2} \\mathbf{1} \n",
    " $$\n",
    " Therefore \n",
    " $$\n",
    " \\hat{\\mathbf{W}}_{\\text{ML}} = \\mathbf{U} (\\Lambda - \\sigma^{2} \\mathbf{1})^{1/2} \\mathbf{R}\n",
    " $$\n",
    " Where $\\mathbf{U}$ is the left projector operator \n",
    " of the singular value decomposition of $\\mathbf{S}$ and $\\Lambda$ is eigenvalue \n",
    " diagonal matrix. $\\mathbf{R}$ is an arbitrary rotation matrix.\n",
    " \n",
    " The operator may be ranked reduce to include only non-zero eigenvalues. \n",
    " \n",
    " From this maximum likelihood estimator, we get\n",
    "$$ \n",
    "        \\hat{\\sigma}^2_{\\text{ML}} = \\frac{1}{m - q} \\sum_{j=q + 1}^m \\lambda_j\n",
    "$$\n",
    "which is the lost variance by the projection averaged over the lost dimension.\n"
   ]
  },
  {
   "cell_type": "markdown",
   "metadata": {},
   "source": [
    "# An Expectation Maximization Algorithm for PPCA\n",
    "In this approach, the latent variables $\\theta$ are the *missing data*. \n",
    "The complete data likelihood is \n",
    "$$\n",
    "    \\mathcal{L}_C = \\sum_{i = 1}^N \\log (p( \\mathbf{x}_i \\mid \\eta_i))\n",
    "$$\n",
    "\n",
    "From our previous definitions, this is\n",
    "$$\n",
    "    p( \\mathbf{x}_i \\mid \\eta_i) = (2 \\pi \\sigma^2)^{-m/2} \n",
    "    \\exp \\left\\{ - \\frac{|| \\mathbf{x}_i - \\mathbf{W}\\eta_i - \\mu ||^2}{2 \\sigma^2} \\right\\} \n",
    "        (2 \\pi )^{-m/2}\\exp \\left\\{ - \\frac{||\\eta_i||^2}{2}\\right\\}\n",
    "$$\n",
    "\n",
    "In the expectation step (E step), we take the expectation of $\\mathcal{L}_C$ \n",
    "with respect to the distribution $p(\\eta_i \\mid \\mathbf{x}_i, \\mathbf{W}, \\sigma^2)$\n",
    "\n",
    "$$\n",
    "    \\langle \\mathcal{L}_C\\rangle = -\n",
    "    \\sum_{i = 1}^N \\frac{m}{2} \\log(\\sigma^2) + \n",
    "    \\frac{1}{2} \\text{Tr} (\\langle \\eta_i \\eta_i^T \\rangle) \n",
    "    + \\frac{1}{2 \\sigma^{2}}(\\mathbf{x}_i - \\mu)^T(\\mathbf{x}_i - \\mu)\n",
    "    - \\frac{1}{\\sigma^2} \\langle \\eta_i \\rangle^T \\mathbf{W}^T (\\mathbf{x}_i - \\mu) \n",
    "    + \\frac{1}{2 \\sigma^2} \\text{Tr} (\\mathbf{W}^T \\mathbf{W} \\langle \\eta_i \\eta_i^T \\rangle )\n",
    "$$\n",
    "\n",
    "where \n",
    "\\begin{align}\n",
    "        \\langle \\eta_i \\rangle &= \\mathbf{M}^{-1} \\mathbf{W}^{T} (\\mathbf{x}_i - \\mu) \\\\\n",
    "        \\langle \\eta_i \\eta_i^T \\rangle &= \\sigma^2 \\mathbf{M}^{-1} + \\langle \\eta_i \\rangle \n",
    "        \\langle \\eta_i \\rangle^{T} \\\\\n",
    "        \\mathbf{M} &= \\mathbf{W}^{T} \\mathbf{W} + \\sigma^2 \\mathbf{1}\n",
    "\\end{align}\n",
    "These values are computed using the fixed statistics $\\mathbf{W}$ and $\\sigma^2$.\n",
    "\n",
    "In the maximization step (M-step), $\\langle \\mathcal{L}_C \\rangle$ is maximized with respect \n",
    "to $\\mathbf{W}$ and $\\sigma^{2}$ given\n",
    "$$\n",
    "\\tilde{\\mathbf{W}} =  \\left( \\sum_{i = 1}^N (\\mathbf{x_i} - \\mu) \\langle \\eta_i \\rangle^T \\right)\n",
    "\\left( \\sum_{i = 1}^N \\langle \\eta_i \\eta_i^T \\rangle \\right)^{-1}\n",
    "$$\n",
    "and \n",
    "$$\n",
    "\\tilde{\\sigma}^{2} = \\frac{1}{N m} \\sum_{i=1}^{N} ||\\mathbf{x}_i - \\mu||^2 \n",
    "        - 2\\langle \\eta_i \\rangle^T \\tilde{\\mathbf{W}}^T (\\mathbf{x}_i - \\mu) \n",
    "        + \\text{Tr}(\\langle \\eta_i \\eta_i^T\\rangle \\tilde{\\mathbf{W}}^T \\tilde{\\mathbf{W}})\n",
    "$$\n",
    "\n",
    "\n",
    "        \n",
    "\n"
   ]
  },
  {
   "cell_type": "code",
   "execution_count": 251,
   "metadata": {},
   "outputs": [
    {
     "data": {
      "text/plain": [
       "Text(0.5, 1.0, 'Multivariate Gaussian')"
      ]
     },
     "execution_count": 251,
     "metadata": {},
     "output_type": "execute_result"
    },
    {
     "data": {
      "image/png": "[encoded data removed]",
      "text/plain": [
       "<Figure size 432x288 with 1 Axes>"
      ]
     },
     "metadata": {},
     "output_type": "display_data"
    }
   ],
   "source": [
    "# Dataset\n",
    "N = 5000\n",
    "m = 2    # data dimension\n",
    "q = 1    # latent dimension for \n",
    "variance = 0.5\n",
    "\n",
    "plt.style.use(\"dark_background\")\n",
    "true_mean = [0, 0]\n",
    "true_cov = [[8, 1], [1, 1]]  # positive semi-definite and symettric matrix\n",
    "data = np.random.multivariate_normal(true_mean, true_cov, size=N)\n",
    "plt.hist2d(data[:, 0], data[:, 1], cmap=\"hot\", bins=50)\n",
    "plt.axis(\"equal\")\n",
    "plt.xlabel(r\"x_0\")\n",
    "plt.ylabel(r\"x_1\")\n",
    "plt.title(\"Multivariate Gaussian\")"
   ]
  },
  {
   "cell_type": "code",
   "execution_count": 409,
   "metadata": {},
   "outputs": [],
   "source": [
    "def stacked_lstsq(L, b, rcond=1e-10):\n",
    "    \"\"\"\n",
    "    Solve L x = b, via SVD least squares cutting of small singular values\n",
    "    L is an array of shape (M, N) and b of shape (..., M).\n",
    "    Returns x of shape (..., N)\n",
    "    \"\"\"\n",
    "    u, s, v = np.linalg.svd(L, full_matrices=False)\n",
    "    s_max = s.max(axis=-1, keepdims=True)\n",
    "    s_min = rcond*s_max\n",
    "    inv_s = np.zeros_like(s)\n",
    "    inv_s[s >= s_min] = 1/s[s>=s_min]\n",
    "    x = np.einsum('ji,...j-> ...i', v, inv_s * np.einsum('ji,...j->...i', u, b))\n",
    "    return x\n",
    "\n",
    "\n",
    "\n",
    "def probabilistic_pca(data, q, method=\"mle\", epsilon=1e-6):\n",
    "    \n",
    "    # initialization\n",
    "    m = data.shape[1]\n",
    "    \n",
    "    if method == \"mle\":\n",
    "\n",
    "        # empirical mean\n",
    "        mu_hat = np.mean(data, axis=0)\n",
    "\n",
    "        # empirical covariance\n",
    "        xi = data - mu_hat[np.newaxis, :]\n",
    "        sigma_hat = np.mean(np.einsum(\"...i, ...j -> ...ij\", xi, xi), axis=0)\n",
    "\n",
    "        u, lam, _ = svd(sigma_hat)\n",
    "\n",
    "        # sufficient statistics\n",
    "        if q < m:\n",
    "            variance_hat = np.mean(lam[q:])  # variance lost in the projection\n",
    "            lam[q:] = variance_hat           # principal eigenvalues unchanged\n",
    "            u_q = u[:, :q]                   # projector to principal space\n",
    "        elif q == m:\n",
    "            variance_hat = 0\n",
    "            u_q = u\n",
    "\n",
    "        # compute square root via svd\n",
    "        A = (np.eye(m) * lam - np.eye(m) * variance_hat)\n",
    "        v, d, v_inv = svd(A)\n",
    "        A_sq = v_inv @ (np.eye(m) * d**(1/2)) @ v\n",
    "        \n",
    "        # ML estimator of weight matrix\n",
    "        W = u_q.T @ A_sq\n",
    "    \n",
    "    # optimize for the variance sigma and weight matrix\n",
    "    if method == \"em\":\n",
    "\n",
    "        def expected_log_likelihood(exp_eta, exp_eta_cov, var, W):\n",
    "#             xi = data - mu[np.newaxis, :] # gotten from outside namescope\n",
    "            \n",
    "            out = N * m /2 * np.log(var)\n",
    "            out += np.sum(np.einsum(\"...ii -> ...\", exp_eta_cov))/2\n",
    "            out += np.sum(np.einsum(\"...i, ...i -> ...\", xi, xi))/2/var\n",
    "            out -= np.sum(np.einsum(\"...i, ...i -> ...\", exp_eta, np.einsum(\"ij, ...i -> ...j\", W, xi)))/var\n",
    "            w_cov =  np.einsum(\"ij, ...jk -> ...ik\", W, exp_eta_cov)\n",
    "            ww_cov = np.einsum(\"ji, ...jk -> ...ik\", W, w_cov)\n",
    "            trace = np.einsum(\"...ii -> ...\", ww_cov)\n",
    "            out += np.sum(trace)/2/var\n",
    "            return -out\n",
    "        \n",
    "        # estimate mu from data\n",
    "        mu_hat = np.mean(data, axis=0)\n",
    "        xi = data - mu_hat[np.newaxis, :]\n",
    "        \n",
    "        expectation_last = -np.inf    # start expectation at the lowest possible value\n",
    "        best_expectation = -np.inf    # set a record for the space search\n",
    "    \n",
    "        max_iter = 1000               # set a maximum iteration limit\n",
    "        n_try = 1                     # explore the landscape to search for global maxima\n",
    "        # as it turns out, one iteration is fine.\n",
    "        \n",
    "        for epoch in range(n_try):\n",
    "            # initialize latent variable at a random point in the parameter space\n",
    "            W_tilde = np.random.normal(0, 1, size=(m, q))\n",
    "            var_tilde = np.random.normal(0, 1)**2\n",
    "            for i in range(1000):\n",
    "                # Expectation step\n",
    "                M = W_tilde.T @ W_tilde + np.eye(q) * var_tilde   # (q, q) matrix\n",
    "                M_inv = np.linalg.inv(M)\n",
    "                exp_eta = np.einsum(\"ij, ...j -> ...i\", M_inv, np.einsum(\"ji, ...j -> ...i\",  W_tilde, xi))\n",
    "                exp_eta_cov = (M_inv * var_tilde)[np.newaxis, :, :] + np.einsum(\"...i, ...j -> ...ij\", exp_eta, exp_eta)\n",
    "\n",
    "                # Maximization step\n",
    "                cov_norm = np.linalg.inv(np.sum(exp_eta_cov, axis=0))\n",
    "                W_tilde = np.sum(np.einsum(\"...i, ...j -> ...ij\", xi, exp_eta), axis=0) @ cov_norm\n",
    "                var_tilde = np.sum(xi**2)\n",
    "                var_tilde -= 2 * np.sum(np.einsum(\"...i, ...i -> ...\", exp_eta, np.einsum(\"ij, ...i -> ...j\", W_tilde, xi)))\n",
    "                var_tilde += np.sum(np.einsum(\"...ii\", np.einsum(\"...ij, jk -> ...ik\", exp_eta_cov , W_tilde.T @ W_tilde)))\n",
    "                var_tilde /= m * N\n",
    "\n",
    "\n",
    "                expectation = expected_log_likelihood(exp_eta, exp_eta_cov, var_tilde, W_tilde)\n",
    "                if expectation <= expectation_last + epsilon:\n",
    "                    break\n",
    "                expectation_last = expectation\n",
    "            \n",
    "            print(expectation)\n",
    "            if expectation > best_expectation:\n",
    "                # update our best parameters\n",
    "                W = W_tilde\n",
    "                var = var_tilde\n",
    "                best_expectation = expectation\n",
    "\n",
    "        \n",
    "        # W span the principal subspace: it's ok that the principal component are not orthogonal\n",
    "        u = W\n",
    "        \n",
    "    def sample_data(N):\n",
    "        eta = np.random.multivariate_normal(mean=[0]*q, cov=np.eye(q), size=N)\n",
    "        return np.einsum(\"ij, ...j -> ...i\", W, eta) + mu_hat[np.newaxis, :]\n",
    "        \n",
    "    \n",
    "    def principal_component():\n",
    "        return np.einsum(\"ji, ...j -> ...i\", W, (data - mu_hat[np.newaxis, :]))\n",
    "        \n",
    "    return sample_data, principal_component, u\n"
   ]
  },
  {
   "cell_type": "code",
   "execution_count": 410,
   "metadata": {},
   "outputs": [
    {
     "name": "stdout",
     "output_type": "stream",
     "text": [
      "-9002.069606993362\n"
     ]
    },
    {
     "data": {
      "text/plain": [
       "Text(0.5, 1.0, 'Reconstructed samples')"
      ]
     },
     "execution_count": 410,
     "metadata": {},
     "output_type": "execute_result"
    },
    {
     "data": {
      "image/png": "[encoded data removed]",
      "text/plain": [
       "<Figure size 432x288 with 1 Axes>"
      ]
     },
     "metadata": {},
     "output_type": "display_data"
    }
   ],
   "source": [
    "ppca = probabilistic_pca(data, 2, \"em\")\n",
    "\n",
    "new_sample = ppca[0](N)\n",
    "plt.hist2d(new_sample[:, 0], new_sample[:, 1], cmap=\"hot\", bins=20)\n",
    "plt.axis(\"equal\")\n",
    "plt.xlabel(r\"x_0\")\n",
    "plt.ylabel(r\"x_1\")\n",
    "plt.title(\"Reconstructed samples\")\n"
   ]
  },
  {
   "cell_type": "code",
   "execution_count": 411,
   "metadata": {},
   "outputs": [
    {
     "data": {
      "text/plain": [
       "<matplotlib.patches.FancyArrow at 0x7fbb9a0ff490>"
      ]
     },
     "execution_count": 411,
     "metadata": {},
     "output_type": "execute_result"
    },
    {
     "data": {
      "image/png": "[encoded data removed]",
      "text/plain": [
       "<Figure size 432x288 with 1 Axes>"
      ]
     },
     "metadata": {},
     "output_type": "display_data"
    }
   ],
   "source": [
    "u1 = ppca[2][:, 0]\n",
    "u2 = ppca[2][:, 1]\n",
    "plt.hist2d(data[:, 0], data[:, 1], cmap=\"hot\", bins=50)\n",
    "plt.axis(\"equal\")\n",
    "plt.xlabel(r\"x_0\")\n",
    "plt.ylabel(r\"x_1\")\n",
    "plt.title(\"Multivariate Gaussian\")\n",
    "plt.arrow(0, 0, 2*u1[0], 2*u1[1], color=\"w\", width=0.5)\n",
    "plt.arrow(0, 0, 2*u2[0], 2*u2[1], color=\"w\", width=0.2)"
   ]
  },
  {
   "cell_type": "code",
   "execution_count": null,
   "metadata": {},
   "outputs": [],
   "source": []
  },
  {
   "cell_type": "code",
   "execution_count": null,
   "metadata": {},
   "outputs": [],
   "source": []
  },
  {
   "cell_type": "code",
   "execution_count": null,
   "metadata": {},
   "outputs": [],
   "source": []
  }
 ],
 "metadata": {
  "kernelspec": {
   "display_name": "Python 3",
   "language": "python",
   "name": "python3"
  },
  "language_info": {
   "codemirror_mode": {
    "name": "ipython",
    "version": 3
   },
   "file_extension": ".py",
   "mimetype": "text/x-python",
   "name": "python",
   "nbconvert_exporter": "python",
   "pygments_lexer": "ipython3",
   "version": "3.7.6"
  },
  "toc-autonumbering": true,
  "toc-showcode": false,
  "toc-showmarkdowntxt": true
 },
 "nbformat": 4,
 "nbformat_minor": 4
}
